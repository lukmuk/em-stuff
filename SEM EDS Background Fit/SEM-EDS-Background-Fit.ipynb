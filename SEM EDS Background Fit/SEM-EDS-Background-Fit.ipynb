{
 "cells": [
  {
   "cell_type": "markdown",
   "id": "7aec76f1-53c3-49be-a90c-50959fe8f344",
   "metadata": {},
   "source": [
    "## EDS Background Fit using Hyperspy \n",
    "**Issue:** Trying to fit a SEM-EDS background model in a specific energy range to a spectrum.  \n",
    "The idea is trying to fit the background first, then fix it, and then fit the x-ray peaks afterwards on top. This is attempted below in methods **1)** and **2)**, but I cannot get it working.\n",
    "Fitting everything together works, but often gives not the best background fits (here its fine, since it is simulated data)."
   ]
  },
  {
   "cell_type": "code",
   "execution_count": 1,
   "id": "9fdb0bd8-3fe2-4951-a796-da03ca7184ca",
   "metadata": {},
   "outputs": [],
   "source": [
    "# Use watermark package to document package versions, https://github.com/rasbt/watermark\n",
    "%load_ext watermark"
   ]
  },
  {
   "cell_type": "code",
   "execution_count": 2,
   "id": "f4e890eb-fa51-4f8c-bd4c-135e62eff84b",
   "metadata": {},
   "outputs": [],
   "source": [
    "%matplotlib qt"
   ]
  },
  {
   "cell_type": "code",
   "execution_count": 3,
   "id": "576dc0a8-382b-49a6-a43c-86e2a201f2f2",
   "metadata": {},
   "outputs": [],
   "source": [
    "import numpy as np\n",
    "import matplotlib.pyplot as plt\n",
    "import hyperspy.api as hs"
   ]
  },
  {
   "cell_type": "code",
   "execution_count": 4,
   "id": "29a70d7c-2e2e-4be6-840a-60edcbc81083",
   "metadata": {},
   "outputs": [
    {
     "name": "stdout",
     "output_type": "stream",
     "text": [
      "Last updated: 2023-02-01T16:01:57.086085+01:00\n",
      "\n",
      "Python implementation: CPython\n",
      "Python version       : 3.9.16\n",
      "IPython version      : 8.8.0\n",
      "\n",
      "Compiler    : MSC v.1916 64 bit (AMD64)\n",
      "OS          : Windows\n",
      "Release     : 10\n",
      "Machine     : AMD64\n",
      "Processor   : Intel64 Family 6 Model 165 Stepping 5, GenuineIntel\n",
      "CPU cores   : 16\n",
      "Architecture: 64bit\n",
      "\n",
      "matplotlib: 3.6.3\n",
      "numpy     : 1.23.5\n",
      "hyperspy  : 1.7.3\n",
      "\n"
     ]
    }
   ],
   "source": [
    "# Print package versions\n",
    "%watermark -i -v -u -m --iversions"
   ]
  },
  {
   "cell_type": "markdown",
   "id": "7a3633b6-1ad0-4d43-b42d-8da72d2f8215",
   "metadata": {},
   "source": [
    "### Load spectra and inspect"
   ]
  },
  {
   "cell_type": "markdown",
   "id": "eb901cfb-7a4e-444c-86b0-e0f526232ea1",
   "metadata": {},
   "source": [
    "Spectra were simulated with DTSA-II:  \n",
    "SrTiO3 bulk material, 20 keV, different dose. A background model was created in DTSA from the 100 nAs STO spectrum.  \n",
    "**We try to fit the background model to the 60 nAs STO spectrum.**"
   ]
  },
  {
   "cell_type": "code",
   "execution_count": 5,
   "id": "a4d7d1ce-ce0c-4b1d-b44e-9206d6094a1d",
   "metadata": {},
   "outputs": [],
   "source": [
    "STO_100nAs = hs.load(r'STO_20keV_100nAs.msa', signal_type='EDS_SEM')\n",
    "STO_60nAs = hs.load(r'STO_20keV_60nAs.msa', signal_type='EDS_SEM')\n",
    "DTSA_brems_100nAs = hs.load(r'Bremsstrahlung_STO_20keV_100nAs.msa', signal_type='EDS_SEM')"
   ]
  },
  {
   "cell_type": "markdown",
   "id": "76ef069b-b335-4756-983c-637538cbab64",
   "metadata": {},
   "source": [
    "The background was calculated from the 100 nAs spectrum, so it matches nicely:"
   ]
  },
  {
   "cell_type": "code",
   "execution_count": 6,
   "id": "aa866a5b-1130-4471-82cb-917c141c51b8",
   "metadata": {},
   "outputs": [
    {
     "data": {
      "text/plain": [
       "<AxesSubplot: xlabel='Energy (eV) (eV)', ylabel='Intensity'>"
      ]
     },
     "execution_count": 6,
     "metadata": {},
     "output_type": "execute_result"
    }
   ],
   "source": [
    "hs.plot.plot_spectra([STO_100nAs, DTSA_brems_100nAs])"
   ]
  },
  {
   "cell_type": "markdown",
   "id": "1ccd4beb-4ef8-45dd-9f34-65d54dde92ca",
   "metadata": {},
   "source": [
    "Now, we are trying to fit it to another spectrum, here one with lower dose of 60 nAs.  \n",
    "Since there a fewer counts the background is too high:"
   ]
  },
  {
   "cell_type": "code",
   "execution_count": 7,
   "id": "fad9a25e-233b-4b90-894b-e69e95ecb0ce",
   "metadata": {},
   "outputs": [
    {
     "data": {
      "text/plain": [
       "<AxesSubplot: xlabel='Energy (eV) (eV)', ylabel='Intensity'>"
      ]
     },
     "execution_count": 7,
     "metadata": {},
     "output_type": "execute_result"
    }
   ],
   "source": [
    "hs.plot.plot_spectra([STO_60nAs, DTSA_brems_100nAs])"
   ]
  },
  {
   "cell_type": "markdown",
   "id": "53b3cf17-c7ad-429e-ae7a-83910f7d9b3d",
   "metadata": {},
   "source": [
    "### Background fitting"
   ]
  },
  {
   "cell_type": "code",
   "execution_count": 6,
   "id": "9d9d393d-2981-4cab-bf5e-51172e2e3d2a",
   "metadata": {},
   "outputs": [],
   "source": [
    "s = STO_60nAs.deepcopy()\n",
    "bg = DTSA_brems_100nAs.deepcopy()"
   ]
  },
  {
   "cell_type": "code",
   "execution_count": 7,
   "id": "626cb9f4-bf06-4285-b349-6bcfde46a87e",
   "metadata": {},
   "outputs": [
    {
     "data": {
      "text/plain": [
       "<EDSSEMSpectrum, title: Noisy[MC simulation of bulk SrTiO3] #1, dimensions: (|2048)>"
      ]
     },
     "execution_count": 7,
     "metadata": {},
     "output_type": "execute_result"
    }
   ],
   "source": [
    "s"
   ]
  },
  {
   "cell_type": "code",
   "execution_count": 8,
   "id": "1fe61de3-14ed-49fc-9b26-3ba404ac11a9",
   "metadata": {},
   "outputs": [
    {
     "data": {
      "text/plain": [
       "<EDSSEMSpectrum, title: Brem[Noisy[MC simulation of bulk SrTiO3] #1, auto rois], dimensions: (|2048)>"
      ]
     },
     "execution_count": 8,
     "metadata": {},
     "output_type": "execute_result"
    }
   ],
   "source": [
    "bg"
   ]
  },
  {
   "cell_type": "code",
   "execution_count": 20,
   "id": "4c172210-9c28-41a9-81e8-6de9decbe591",
   "metadata": {},
   "outputs": [
    {
     "data": {
      "text/html": [
       "<style>\n",
       "table, th, td {\n",
       "\tborder: 1px solid black;\n",
       "\tborder-collapse: collapse;\n",
       "}\n",
       "th, td {\n",
       "\tpadding: 5px;\n",
       "}\n",
       "</style>\n",
       "<p><b>< Axes manager, axes: (|2048) ></b></p>\n",
       "<table style='width:100%'>\n",
       "\n",
       "<tr> \n",
       "<th>Signal axis name</th> \n",
       "<th>size</th> \n",
       "<th></th> \n",
       "<th>offset</th> \n",
       "<th>scale</th> \n",
       "<th>units</th> </tr>\n",
       "<tr> \n",
       "<td>Energy (eV)</td> \n",
       "<td>2048</td> \n",
       "<td></td> \n",
       "<td>-200.0</td> \n",
       "<td>10.0</td> \n",
       "<td>eV</td> </tr></table>\n"
      ],
      "text/plain": [
       "<Axes manager, axes: (|2048)>\n",
       "            Name |   size |  index |  offset |   scale |  units \n",
       "================ | ====== | ====== | ======= | ======= | ====== \n",
       "---------------- | ------ | ------ | ------- | ------- | ------ \n",
       "     Energy (eV) |   2048 |      0 |  -2e+02 |      10 |     eV "
      ]
     },
     "execution_count": 20,
     "metadata": {},
     "output_type": "execute_result"
    }
   ],
   "source": [
    "bg.axes_manager"
   ]
  },
  {
   "cell_type": "markdown",
   "id": "166d10e9-89f0-4993-9e5f-fd5e6fe72762",
   "metadata": {},
   "source": [
    "Prepare an EDS model:"
   ]
  },
  {
   "cell_type": "code",
   "execution_count": 9,
   "id": "b4167028-ad56-4d91-ba9a-89733337cd58",
   "metadata": {},
   "outputs": [],
   "source": [
    "s.set_elements([]) #erase present element list\n",
    "s.set_microscope_parameters(beam_energy = s.axes_manager[-1].high_value) #highest energy of cropped signal"
   ]
  },
  {
   "cell_type": "code",
   "execution_count": 10,
   "id": "7dfac78e-d4b9-48b8-ad9a-4d35d72faa3d",
   "metadata": {},
   "outputs": [],
   "source": [
    "s.add_elements(['Sr', 'Ti', 'O']) #sample x-rays"
   ]
  },
  {
   "cell_type": "markdown",
   "id": "963b81f6-6018-40e1-9d60-1e39594dfb00",
   "metadata": {},
   "source": [
    "Create model, start from here again after you recieve an error in the code below:"
   ]
  },
  {
   "cell_type": "code",
   "execution_count": 26,
   "id": "ebef9272-7d7e-4080-aafe-5b34b82c91b7",
   "metadata": {},
   "outputs": [],
   "source": [
    "m = s.create_model(auto_background=False)"
   ]
  },
  {
   "cell_type": "markdown",
   "id": "eaef32cb-dacf-4555-bf40-3a6a39675f56",
   "metadata": {},
   "source": [
    "Add the bremsstrahlung as a `ScaleableFixedPattern` component.  \n",
    "We only want it to be scaled along the `y` direction, i.e. fit the `yscale` parameter (no `shift` or `xscale` changes)."
   ]
  },
  {
   "cell_type": "code",
   "execution_count": 27,
   "id": "e0b7d249-2680-4193-bb3a-ec97962566bc",
   "metadata": {},
   "outputs": [],
   "source": [
    "bg_comp = hs.model.components1D.ScalableFixedPattern(bg, interpolate=False)\n",
    "bg_comp.xscale.free = False"
   ]
  },
  {
   "cell_type": "code",
   "execution_count": 28,
   "id": "f94b0285-8a2a-4a12-b42e-f40752a1e360",
   "metadata": {},
   "outputs": [],
   "source": [
    "m.append(bg_comp)"
   ]
  },
  {
   "cell_type": "markdown",
   "id": "2a0310af-c60d-448e-bd81-48602b27bf23",
   "metadata": {},
   "source": [
    "By default, it is seemingly added as a background component (?)"
   ]
  },
  {
   "cell_type": "code",
   "execution_count": 29,
   "id": "c21284a5-fbc4-4bda-9b2a-7f82657c9520",
   "metadata": {},
   "outputs": [
    {
     "data": {
      "text/plain": [
       "True"
      ]
     },
     "execution_count": 29,
     "metadata": {},
     "output_type": "execute_result"
    }
   ],
   "source": [
    "m.components.ScalableFixedPattern.isbackground"
   ]
  },
  {
   "cell_type": "code",
   "execution_count": 30,
   "id": "e89f679d-f8ab-4ef7-9f09-e99b0024f0ba",
   "metadata": {},
   "outputs": [],
   "source": [
    "#m.print_current_values()"
   ]
  },
  {
   "cell_type": "code",
   "execution_count": 31,
   "id": "ed5a72bb-89f1-4941-99cb-54ee44d5a0fa",
   "metadata": {},
   "outputs": [],
   "source": [
    "#m.plot()"
   ]
  },
  {
   "cell_type": "markdown",
   "id": "382fe804-c884-403d-a9a6-9a61dc14c8aa",
   "metadata": {
    "tags": []
   },
   "source": [
    "### Actual fitting\n",
    "Aim: Fit the background in a peak-free region, i.e. specified by the user between 7 keV and 12 keV in this example."
   ]
  },
  {
   "cell_type": "markdown",
   "id": "d8ffe4af-4e88-43f8-993b-d22811d15735",
   "metadata": {},
   "source": [
    "#### 1) `fit_background()` method\n",
    "Since it seems to be a background component..."
   ]
  },
  {
   "cell_type": "code",
   "execution_count": 32,
   "id": "ed4da833-b9b3-436f-9a5d-ce3c6ca9b5f0",
   "metadata": {},
   "outputs": [
    {
     "data": {
      "text/plain": [
       "True"
      ]
     },
     "execution_count": 32,
     "metadata": {},
     "output_type": "execute_result"
    }
   ],
   "source": [
    "m.components.ScalableFixedPattern.isbackground"
   ]
  },
  {
   "cell_type": "markdown",
   "id": "8febd8de-064c-4344-8899-10a145609d18",
   "metadata": {},
   "source": [
    "...try the `fit_background()` method. However, both of these attempts throw errors:"
   ]
  },
  {
   "cell_type": "code",
   "execution_count": 34,
   "id": "eb1d04d3-75e3-4f9f-b640-c067aaf8cebc",
   "metadata": {},
   "outputs": [],
   "source": [
    "#m.fit_background(start_energy=7000, end_energy=12000) # fit between 7 and 12 keV\n",
    "#m.fit_background()"
   ]
  },
  {
   "cell_type": "markdown",
   "id": "41ade276-2a42-45aa-bdbd-5e20dc4b2bdc",
   "metadata": {},
   "source": [
    "#### 2) `fit_component()` method\n",
    "I also cannot get this method to work. The `yscale` value does not change when trying to fit."
   ]
  },
  {
   "cell_type": "markdown",
   "id": "9f880252-e04c-4055-9f7d-94ba5bf97620",
   "metadata": {},
   "source": [
    "Before:"
   ]
  },
  {
   "cell_type": "code",
   "execution_count": 20,
   "id": "bb63d41f-a9a3-44f1-842f-4dd45ff5472b",
   "metadata": {},
   "outputs": [
    {
     "data": {
      "text/plain": [
       "1.0"
      ]
     },
     "execution_count": 20,
     "metadata": {},
     "output_type": "execute_result"
    }
   ],
   "source": [
    "m.components.ScalableFixedPattern.yscale.value"
   ]
  },
  {
   "cell_type": "code",
   "execution_count": 85,
   "id": "5a00ad99-faa7-4dd2-9105-cae5f8ecc0d6",
   "metadata": {},
   "outputs": [],
   "source": [
    "m.fit_component('ScalableFixedPattern', signal_range='interactive')"
   ]
  },
  {
   "cell_type": "markdown",
   "id": "c14ffceb-588f-4e95-92c7-c2671b7643c1",
   "metadata": {},
   "source": [
    "Specifying the energy range directly also throws an error (?)"
   ]
  },
  {
   "cell_type": "code",
   "execution_count": 25,
   "id": "87a8deff-5b01-4286-9798-0c3c470cdeff",
   "metadata": {},
   "outputs": [],
   "source": [
    "#m.fit_component('ScalableFixedPattern', signal_range=(7000, 12000))"
   ]
  },
  {
   "cell_type": "markdown",
   "id": "4565427f-2d00-48db-8dab-185b3d13d405",
   "metadata": {},
   "source": [
    "After interactively drawing an ROI to around 7 keV to 12 keV and clicking `fit`. No updates on the plot and the `yscale` value:"
   ]
  },
  {
   "cell_type": "code",
   "execution_count": 21,
   "id": "d5b9134e-26f3-4a8e-9bba-be9b7419a214",
   "metadata": {},
   "outputs": [
    {
     "data": {
      "text/plain": [
       "1.0"
      ]
     },
     "execution_count": 21,
     "metadata": {},
     "output_type": "execute_result"
    }
   ],
   "source": [
    "m.components.ScalableFixedPattern.yscale.value"
   ]
  },
  {
   "cell_type": "markdown",
   "id": "2d511eb3-4cfb-4320-94f6-62cf0bb746c7",
   "metadata": {},
   "source": [
    "#### 3) `fit()` method, fitting everything together\n",
    "This method works and yields a nice result in this case since it is from simulated data.  \n",
    "However, we try to first fit the background, then fix it, and then fit the peaks on top."
   ]
  },
  {
   "cell_type": "code",
   "execution_count": 22,
   "id": "a5f7f707-5023-4489-b74c-99c399c88961",
   "metadata": {},
   "outputs": [],
   "source": [
    "m.fit(bounded=True, optimizer='lm', return_info=False)"
   ]
  },
  {
   "cell_type": "code",
   "execution_count": 23,
   "id": "1e1de985-54f6-4aa6-aa1d-d44592fee6c6",
   "metadata": {},
   "outputs": [],
   "source": [
    "m.plot()"
   ]
  },
  {
   "cell_type": "markdown",
   "id": "d3eb198b-7f8d-4816-9b66-509d6c1c9790",
   "metadata": {},
   "source": [
    "The `yscale` parameter is fitted and updated: "
   ]
  },
  {
   "cell_type": "code",
   "execution_count": 24,
   "id": "f5439411-3c5a-4751-be4a-f318efd761df",
   "metadata": {},
   "outputs": [
    {
     "data": {
      "text/plain": [
       "0.6122662521357652"
      ]
     },
     "execution_count": 24,
     "metadata": {},
     "output_type": "execute_result"
    }
   ],
   "source": [
    "m.components.ScalableFixedPattern.yscale.value"
   ]
  }
 ],
 "metadata": {
  "kernelspec": {
   "display_name": "Python 3 (ipykernel)",
   "language": "python",
   "name": "python3"
  },
  "language_info": {
   "codemirror_mode": {
    "name": "ipython",
    "version": 3
   },
   "file_extension": ".py",
   "mimetype": "text/x-python",
   "name": "python",
   "nbconvert_exporter": "python",
   "pygments_lexer": "ipython3",
   "version": "3.9.16"
  }
 },
 "nbformat": 4,
 "nbformat_minor": 5
}
